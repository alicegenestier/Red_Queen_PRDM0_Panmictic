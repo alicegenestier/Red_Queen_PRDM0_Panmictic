{
 "cells": [
  {
   "cell_type": "markdown",
   "id": "8e0cb92d",
   "metadata": {},
   "source": [
    "# Red Queen Observation"
   ]
  },
  {
   "cell_type": "markdown",
   "id": "ce628ebd",
   "metadata": {},
   "source": [
    "## Imports"
   ]
  },
  {
   "cell_type": "code",
   "execution_count": 1,
   "id": "be2dcf39",
   "metadata": {},
   "outputs": [],
   "source": [
    "import sys\n",
    "import os\n",
    "import os.path\n",
    "import io\n",
    "import csv\n",
    "import math\n",
    "import numpy as np\n",
    "import pandas as pd\n",
    "import matplotlib.pyplot as plt\n",
    "from scipy import stats\n",
    "from sklearn.linear_model import LinearRegression\n",
    "from sklearn.metrics import r2_score\n",
    "from scipy.stats import gamma\n",
    "from scipy import integrate\n",
    "import seaborn as sns\n",
    "import numpy.random as nprand\n",
    "from scipy.stats import gamma"
   ]
  },
  {
   "cell_type": "markdown",
   "id": "8d5a7361",
   "metadata": {},
   "source": [
    "## Read file"
   ]
  },
  {
   "cell_type": "code",
   "execution_count": 2,
   "id": "0ef5f9dc",
   "metadata": {},
   "outputs": [],
   "source": [
    "def readfiles(pathtofile, file_name, ext_name,withoutneutral,withoutnan,minq,minfert,logfert,line_to_begin):\n",
    "    data_file = pathtofile+file_name+\".\"+ext_name\n",
    "    data = dict()\n",
    "    params = []\n",
    "    nbline=1\n",
    "    with io.open(data_file,'r') as f:\n",
    "        reader = csv.reader(f)\n",
    "        firstline = True\n",
    "        for line in reader:\n",
    "            lin = line[0].split()\n",
    "            if not firstline:\n",
    "                if nbline>=line_to_begin:\n",
    "                    for j in range(len(lin)):\n",
    "                        if ext_name == \"allele\":\n",
    "                            if float(lin[5])>minq and float(lin[6])>minfert:\n",
    "                                if withoutneutral==1 and float(lin[1]) != -3 :\n",
    "                                    if withoutnan == 0:\n",
    "                                        if logfert==True and (j==6 or j==9):\n",
    "                                            data[params[j]].append(np.log(float(lin[j])))\n",
    "                                        else:\n",
    "                                            data[params[j]].append(float(lin[j]))\n",
    "                                    elif withoutnan ==1 :\n",
    "                                        if lin[5]!=\"-nan\" and lin[6]!=\"-nan\":\n",
    "                                            if logfert==True and (j==6 or j==9):\n",
    "                                                data[params[j]].append(np.log(float(lin[j])))\n",
    "                                            else:\n",
    "                                                data[params[j]].append(float(lin[j])) \n",
    "                                elif withoutneutral==0:\n",
    "                                    if withoutnan == 0:\n",
    "                                        if logfert==True and (j==6 or j==9):\n",
    "                                            data[params[j]].append(np.log(float(lin[j])))\n",
    "                                        else:\n",
    "                                            data[params[j]].append(float(lin[j]))\n",
    "                                    elif withoutnan ==1 :\n",
    "                                        if lin[5]!=\"-nan\" and lin[6]!=\"-nan\":\n",
    "                                            if logfert==True and (j==6 or j==9):\n",
    "                                                data[params[j]].append(np.log(float(lin[j])))\n",
    "                                            else:\n",
    "                                                data[params[j]].append(float(lin[j]))\n",
    "                        elif ext_name == \"trace\" and logfert==True and (j==6 or j==14):\n",
    "                            data[params[j]].append(np.log(float(lin[j])))\n",
    "                        else :\n",
    "                            data[params[j]].append(float(lin[j]))\n",
    "                nbline=nbline+1\n",
    "            else:\n",
    "                for j in lin:\n",
    "                    data[j]=[]\n",
    "                    params.append(j)\n",
    "                firstline = False\n",
    "                nbline=nbline+1\n",
    "    return (data)"
   ]
  },
  {
   "cell_type": "code",
   "execution_count": 11,
   "id": "44767095",
   "metadata": {},
   "outputs": [],
   "source": [
    "path_to_file_init = \"../../../analyses/\""
   ]
  },
  {
   "cell_type": "markdown",
   "id": "bead8966",
   "metadata": {},
   "source": [
    "### Colorblind palette"
   ]
  },
  {
   "cell_type": "code",
   "execution_count": 3,
   "id": "b27b1198",
   "metadata": {},
   "outputs": [],
   "source": [
    "CB_color_cycle = ['#377eb8', '#ff7f00', '#4daf4a',\n",
    "                  '#f781bf', '#a65628', '#984ea3',\n",
    "                  '#999999', '#e41a1c', '#dede00']"
   ]
  },
  {
   "cell_type": "markdown",
   "id": "6d971bf4",
   "metadata": {},
   "source": [
    "## Functions for plot"
   ]
  },
  {
   "cell_type": "code",
   "execution_count": 4,
   "id": "757520a7",
   "metadata": {},
   "outputs": [],
   "source": [
    "def graph_per_allele(target_folder_path, file_name, ext_name, x_axis_param, y_axis_param,withoutneutral,withoutnan,minq,minfert,logfert,line_to_begin):\n",
    "    data_all = readfiles(target_folder_path, file_name, 'allele',withoutneutral,withoutnan,minq,minfert,logfert,line_to_begin)\n",
    "    data_trace = readfiles(target_folder_path, file_name, 'trace',withoutneutral,withoutnan,minq,minfert,logfert,line_to_begin)\n",
    "    x_per_allele=dict()\n",
    "    y_per_allele=dict()\n",
    "    for i in range(len(data_all[\"Generation_number\"])):\n",
    "        cle = data_all['Allele_number'][i]\n",
    "        if ((str(cle) in x_per_allele) == False and cle!=-3):\n",
    "            x_per_allele[str(cle)]=[]\n",
    "            x_per_allele[str(cle)].append(data_all[x_axis_param][i])\n",
    "            y_per_allele[str(cle)]=[]\n",
    "            if y_axis_param==\"selection\":\n",
    "                sel_coef=np.log(data_all['fertility_analytic'][i])-np.log(data_trace['fertility_analytic'][int(data_all[\"Generation_number\"][i]/100)])\n",
    "                y_per_allele[str(cle)].append(sel_coef)\n",
    "            else:\n",
    "                y_per_allele[str(cle)].append(data_all[y_axis_param][i])\n",
    "        elif ((str(cle) in x_per_allele) == True and cle!=-3):\n",
    "            x_per_allele[str(cle)].append(data_all[x_axis_param][i])\n",
    "            if y_axis_param==\"selection\":\n",
    "                sel_coef=np.log(data_all['fertility_analytic'][i])-np.log(data_trace['fertility_analytic'][int(data_all[\"Generation_number\"][i]/100)])\n",
    "                y_per_allele[str(cle)].append(sel_coef)\n",
    "            else:\n",
    "                y_per_allele[str(cle)].append(data_all[y_axis_param][i])\n",
    "    return(x_per_allele,y_per_allele)"
   ]
  },
  {
   "cell_type": "code",
   "execution_count": 9,
   "id": "1f680bdd",
   "metadata": {},
   "outputs": [],
   "source": [
    "def plot_regim_per_allele(target_folder_path, file_name, ext_name, x_param, y_params, withoutneutral, withoutnan,minq,minfert,logfert,line_to_begin, allelenbmin, allelenbmax,boldallel,xmin,xmax,x_letter,y_letter,ymin,ymax,title,letters):\n",
    "    figure=plt.figure(figsize=(8,8))\n",
    "    index_line_plot=1\n",
    "    for k in range(2):\n",
    "        index_line=1\n",
    "        legend_list=[\"Frequency of\\n PRDM9 alleles (\"r\"$f_i$)\",\"Proportion of\\n active sites (\"r\"$\\theta_i$)\"]\n",
    "        figure.patch.set_facecolor('white')\n",
    "        figure.patch.set_alpha(0)\n",
    "        for i in y_params:\n",
    "            max_y=0\n",
    "            plt.subplot(2*len(y_params),1,index_line_plot) \n",
    "            (X,Y)=graph_per_allele(target_folder_path[k], file_name[k], ext_name, x_param, i, withoutneutral,withoutnan,minq,minfert,logfert,line_to_begin)\n",
    "            index_color=0\n",
    "            for j in range(allelenbmax[k]-allelenbmin[k]):\n",
    "                allele_nb=allelenbmin[k]+j\n",
    "                nameallelelist=[str(allele_nb),'.0']\n",
    "                nameallele=''.join(nameallelelist)\n",
    "                if X.get(nameallele, 0)!=0:\n",
    "                    if(float(nameallele)==boldallel[k]):\n",
    "                        plt.plot(X[nameallele], Y[nameallele],linewidth=3,color=CB_color_cycle[index_color])\n",
    "                    else:\n",
    "                        plt.plot(X[nameallele], Y[nameallele],color=CB_color_cycle[index_color])\n",
    "                    if(max_y<max(Y[nameallele])):\n",
    "                        max_y=max(Y[nameallele])\n",
    "                    index_color+=1\n",
    "                    index_color=index_color%9\n",
    "            plt.ylabel(legend_list[index_line-1],fontsize=11)\n",
    "            plt.text(x=x_letter,y=y_letter[k][index_line-1],s=letters[k][index_line-1],fontweight='bold',fontsize=16)\n",
    "            if index_line==len(y_params):\n",
    "                plt.xlabel(\"Number of generations\",fontsize=12)\n",
    "            plt.title(title)\n",
    "            if i==\"selection\":\n",
    "                plt.axhline(y=0, color='black',linestyle=':')\n",
    "            plt.xticks(fontsize=12)\n",
    "            plt.yticks(fontsize=12)\n",
    "            plt.xlim(xmin,xmax)\n",
    "            plt.ylim(ymin[k][index_line-1],ymax[k][index_line-1])\n",
    "            plt.subplots_adjust(left=0.1,bottom=0.1,right=0.9,top=0.9,wspace=0.4,hspace=0.25)\n",
    "            index_line+=1\n",
    "            index_line_plot+=1\n",
    "            plt.grid()\n",
    "            figure.tight_layout()"
   ]
  },
  {
   "cell_type": "code",
   "execution_count": 13,
   "id": "608dc7f5",
   "metadata": {},
   "outputs": [
    {
     "ename": "FileNotFoundError",
     "evalue": "[Errno 2] No such file or directory: '../../../analyses/scaling_bidim_U_V_COasym/scaling_bidim_1/scaling_V_5e-5/Run_U_5e-6.allele'",
     "output_type": "error",
     "traceback": [
      "\u001b[0;31m---------------------------------------------------------------------------\u001b[0m",
      "\u001b[0;31mFileNotFoundError\u001b[0m                         Traceback (most recent call last)",
      "Input \u001b[0;32mIn [13]\u001b[0m, in \u001b[0;36m<cell line: 49>\u001b[0;34m()\u001b[0m\n\u001b[1;32m     46\u001b[0m y_letter \u001b[38;5;241m=\u001b[39m [y_letter_1,y_letter_2]\n\u001b[1;32m     47\u001b[0m letters \u001b[38;5;241m=\u001b[39m [letters_1,letters_2]\n\u001b[0;32m---> 49\u001b[0m fig1\u001b[38;5;241m=\u001b[39m\u001b[43mplot_regim_per_allele_2\u001b[49m\u001b[43m(\u001b[49m\u001b[43mtarget_folder_path\u001b[49m\u001b[43m,\u001b[49m\u001b[43m \u001b[49m\u001b[43mfile_to_plot\u001b[49m\u001b[43m,\u001b[49m\u001b[43m \u001b[49m\u001b[43mext_of_file\u001b[49m\u001b[43m,\u001b[49m\u001b[43m \u001b[49m\u001b[43mx_parameter\u001b[49m\u001b[43m,\u001b[49m\u001b[43my_parameters\u001b[49m\u001b[43m,\u001b[49m\u001b[43mwithoutneutral\u001b[49m\u001b[43m,\u001b[49m\u001b[43m \u001b[49m\u001b[43mwithoutnan\u001b[49m\u001b[43m,\u001b[49m\u001b[43mminq\u001b[49m\u001b[43m,\u001b[49m\u001b[43mminfert\u001b[49m\u001b[43m,\u001b[49m\u001b[43mlogfert\u001b[49m\u001b[43m,\u001b[49m\u001b[43mline_to_begin\u001b[49m\u001b[43m,\u001b[49m\u001b[43m \u001b[49m\u001b[43mallelenbmin\u001b[49m\u001b[43m,\u001b[49m\u001b[43m \u001b[49m\u001b[43mallelenbmax\u001b[49m\u001b[43m,\u001b[49m\u001b[43mboldallel\u001b[49m\u001b[43m,\u001b[49m\u001b[43mxmin\u001b[49m\u001b[43m,\u001b[49m\u001b[43mxmax\u001b[49m\u001b[43m,\u001b[49m\u001b[43mx_letter\u001b[49m\u001b[43m,\u001b[49m\u001b[43my_letter\u001b[49m\u001b[43m,\u001b[49m\u001b[43mymin\u001b[49m\u001b[43m,\u001b[49m\u001b[43mymax\u001b[49m\u001b[43m,\u001b[49m\u001b[43mtitle\u001b[49m\u001b[43m,\u001b[49m\u001b[43mletters\u001b[49m\u001b[43m)\u001b[49m\n\u001b[1;32m     51\u001b[0m plt\u001b[38;5;241m.\u001b[39msavefig(\u001b[38;5;124m'\u001b[39m\u001b[38;5;124mS2_Fig.png\u001b[39m\u001b[38;5;124m'\u001b[39m, dpi\u001b[38;5;241m=\u001b[39m\u001b[38;5;241m200\u001b[39m, bbox_inches\u001b[38;5;241m=\u001b[39m\u001b[38;5;124m'\u001b[39m\u001b[38;5;124mtight\u001b[39m\u001b[38;5;124m'\u001b[39m)\n",
      "Input \u001b[0;32mIn [7]\u001b[0m, in \u001b[0;36mplot_regim_per_allele_2\u001b[0;34m(target_folder_path, file_name, ext_name, x_param, y_params, withoutneutral, withoutnan, minq, minfert, logfert, line_to_begin, allelenbmin, allelenbmax, boldallel, xmin, xmax, x_letter, y_letter, ymin, ymax, title, letters)\u001b[0m\n\u001b[1;32m     10\u001b[0m max_y\u001b[38;5;241m=\u001b[39m\u001b[38;5;241m0\u001b[39m\n\u001b[1;32m     11\u001b[0m plt\u001b[38;5;241m.\u001b[39msubplot(\u001b[38;5;241m2\u001b[39m\u001b[38;5;241m*\u001b[39m\u001b[38;5;28mlen\u001b[39m(y_params),\u001b[38;5;241m1\u001b[39m,index_line_plot) \n\u001b[0;32m---> 12\u001b[0m (X,Y)\u001b[38;5;241m=\u001b[39m\u001b[43mgraph_per_allele\u001b[49m\u001b[43m(\u001b[49m\u001b[43mtarget_folder_path\u001b[49m\u001b[43m[\u001b[49m\u001b[43mk\u001b[49m\u001b[43m]\u001b[49m\u001b[43m,\u001b[49m\u001b[43m \u001b[49m\u001b[43mfile_name\u001b[49m\u001b[43m[\u001b[49m\u001b[43mk\u001b[49m\u001b[43m]\u001b[49m\u001b[43m,\u001b[49m\u001b[43m \u001b[49m\u001b[43mext_name\u001b[49m\u001b[43m,\u001b[49m\u001b[43m \u001b[49m\u001b[43mx_param\u001b[49m\u001b[43m,\u001b[49m\u001b[43m \u001b[49m\u001b[43mi\u001b[49m\u001b[43m,\u001b[49m\u001b[43m \u001b[49m\u001b[43mwithoutneutral\u001b[49m\u001b[43m,\u001b[49m\u001b[43mwithoutnan\u001b[49m\u001b[43m,\u001b[49m\u001b[43mminq\u001b[49m\u001b[43m,\u001b[49m\u001b[43mminfert\u001b[49m\u001b[43m,\u001b[49m\u001b[43mlogfert\u001b[49m\u001b[43m,\u001b[49m\u001b[43mline_to_begin\u001b[49m\u001b[43m)\u001b[49m\n\u001b[1;32m     13\u001b[0m index_color\u001b[38;5;241m=\u001b[39m\u001b[38;5;241m0\u001b[39m \u001b[38;5;66;03m###############\u001b[39;00m\n\u001b[1;32m     14\u001b[0m \u001b[38;5;28;01mfor\u001b[39;00m j \u001b[38;5;129;01min\u001b[39;00m \u001b[38;5;28mrange\u001b[39m(allelenbmax[k]\u001b[38;5;241m-\u001b[39mallelenbmin[k]):\n",
      "Input \u001b[0;32mIn [4]\u001b[0m, in \u001b[0;36mgraph_per_allele\u001b[0;34m(target_folder_path, file_name, ext_name, x_axis_param, y_axis_param, withoutneutral, withoutnan, minq, minfert, logfert, line_to_begin)\u001b[0m\n\u001b[1;32m      1\u001b[0m \u001b[38;5;28;01mdef\u001b[39;00m \u001b[38;5;21mgraph_per_allele\u001b[39m(target_folder_path, file_name, ext_name, x_axis_param, y_axis_param,withoutneutral,withoutnan,minq,minfert,logfert,line_to_begin):\n\u001b[0;32m----> 2\u001b[0m     data_all \u001b[38;5;241m=\u001b[39m \u001b[43mreadfiles\u001b[49m\u001b[43m(\u001b[49m\u001b[43mtarget_folder_path\u001b[49m\u001b[43m,\u001b[49m\u001b[43m \u001b[49m\u001b[43mfile_name\u001b[49m\u001b[43m,\u001b[49m\u001b[43m \u001b[49m\u001b[38;5;124;43m'\u001b[39;49m\u001b[38;5;124;43mallele\u001b[39;49m\u001b[38;5;124;43m'\u001b[39;49m\u001b[43m,\u001b[49m\u001b[43mwithoutneutral\u001b[49m\u001b[43m,\u001b[49m\u001b[43mwithoutnan\u001b[49m\u001b[43m,\u001b[49m\u001b[43mminq\u001b[49m\u001b[43m,\u001b[49m\u001b[43mminfert\u001b[49m\u001b[43m,\u001b[49m\u001b[43mlogfert\u001b[49m\u001b[43m,\u001b[49m\u001b[43mline_to_begin\u001b[49m\u001b[43m)\u001b[49m\n\u001b[1;32m      3\u001b[0m     data_trace \u001b[38;5;241m=\u001b[39m readfiles(target_folder_path, file_name, \u001b[38;5;124m'\u001b[39m\u001b[38;5;124mtrace\u001b[39m\u001b[38;5;124m'\u001b[39m,withoutneutral,withoutnan,minq,minfert,logfert,line_to_begin)\n\u001b[1;32m      4\u001b[0m     x_per_allele\u001b[38;5;241m=\u001b[39m\u001b[38;5;28mdict\u001b[39m()\n",
      "Input \u001b[0;32mIn [2]\u001b[0m, in \u001b[0;36mreadfiles\u001b[0;34m(pathtofile, file_name, ext_name, withoutneutral, withoutnan, minq, minfert, logfert, line_to_begin)\u001b[0m\n\u001b[1;32m      4\u001b[0m params \u001b[38;5;241m=\u001b[39m []\n\u001b[1;32m      5\u001b[0m nbline\u001b[38;5;241m=\u001b[39m\u001b[38;5;241m1\u001b[39m\n\u001b[0;32m----> 6\u001b[0m \u001b[38;5;28;01mwith\u001b[39;00m \u001b[43mio\u001b[49m\u001b[38;5;241;43m.\u001b[39;49m\u001b[43mopen\u001b[49m\u001b[43m(\u001b[49m\u001b[43mdata_file\u001b[49m\u001b[43m,\u001b[49m\u001b[38;5;124;43m'\u001b[39;49m\u001b[38;5;124;43mr\u001b[39;49m\u001b[38;5;124;43m'\u001b[39;49m\u001b[43m)\u001b[49m \u001b[38;5;28;01mas\u001b[39;00m f:\n\u001b[1;32m      7\u001b[0m     reader \u001b[38;5;241m=\u001b[39m csv\u001b[38;5;241m.\u001b[39mreader(f)\n\u001b[1;32m      8\u001b[0m     firstline \u001b[38;5;241m=\u001b[39m \u001b[38;5;28;01mTrue\u001b[39;00m\n",
      "\u001b[0;31mFileNotFoundError\u001b[0m: [Errno 2] No such file or directory: '../../../analyses/scaling_bidim_U_V_COasym/scaling_bidim_1/scaling_V_5e-5/Run_U_5e-6.allele'"
     ]
    },
    {
     "data": {
      "image/png": "[encoded data removed]",
      "text/plain": [
       "<Figure size 800x800 with 1 Axes>"
      ]
     },
     "metadata": {
      "needs_background": "light"
     },
     "output_type": "display_data"
    }
   ],
   "source": [
    "u_1=\"5e-6\"\n",
    "v_1=\"5e-5\"\n",
    "path_to_file_to_plot_1 = \"scaling_bidim_U_V_COasym/scaling_bidim_1/scaling_V_\"+v_1+\"/\"\n",
    "file_to_plot_1 = \"Run_U_\"+u_1\n",
    "u_2=\"5e-4\"\n",
    "v_2=\"5e-5\"\n",
    "path_to_file_to_plot_2 = \"scaling_bidim_U_V_COasym/scaling_bidim_1/scaling_V_\"+v_2+\"/\"\n",
    "file_to_plot_2 = \"Run_U_\"+u_2\n",
    "ext_of_file = \"allele\"\n",
    "x_parameter = \"Generation_number\"\n",
    "y_parameters = [\"Frequency\",\"Activity\"]\n",
    "withoutneutral = 0\n",
    "withoutnan = 0\n",
    "minq = 0\n",
    "minfert = 0\n",
    "logfert = 0\n",
    "line_to_begin = 0\n",
    "allelenbmin_1 = 0\n",
    "allelenbmax_1 = 10000000\n",
    "boldallel_1 = -1\n",
    "allelenbmin_2 = 0\n",
    "allelenbmax_2 = 10000000\n",
    "boldallel_2 = -1\n",
    "xmin = 10000\n",
    "xmax = 50000\n",
    "ymin_1=[0,0]\n",
    "ymax_1=[1.1,1.1]\n",
    "x_letter = 3000\n",
    "y_letter_1 =[1,1]\n",
    "title=\"\"\n",
    "letters_1=[\"A\",\"B\"]\n",
    "ymin_2=[0,0]\n",
    "ymax_2=[1.1,1.1]\n",
    "x_letter = 3000\n",
    "y_letter_2 = [1,1]\n",
    "title=\"\"\n",
    "letters_2=[\"C\",\"D\"]\n",
    "\n",
    "target_folder_path = [path_to_file_init+path_to_file_to_plot_1,path_to_file_init+path_to_file_to_plot_2]\n",
    "file_to_plot = [file_to_plot_1,file_to_plot_2]\n",
    "allelenbmin = [allelenbmin_1,allelenbmin_2]\n",
    "allelenbmax = [allelenbmax_1,allelenbmax_2]\n",
    "boldallel = [boldallel_1,boldallel_2]\n",
    "ymin = [ymin_1,ymin_2]\n",
    "ymax = [ymax_1,ymax_2]\n",
    "y_letter = [y_letter_1,y_letter_2]\n",
    "letters = [letters_1,letters_2]\n",
    "\n",
    "fig1=plot_regim_per_allele_2(target_folder_path, file_to_plot, ext_of_file, x_parameter,y_parameters,withoutneutral, withoutnan,minq,minfert,logfert,line_to_begin, allelenbmin, allelenbmax,boldallel,xmin,xmax,x_letter,y_letter,ymin,ymax,title,letters)\n",
    "\n",
    "plt.savefig('S2_Fig.png', dpi=200, bbox_inches='tight')\n"
   ]
  },
  {
   "cell_type": "code",
   "execution_count": null,
   "id": "68720781",
   "metadata": {},
   "outputs": [],
   "source": []
  }
 ],
 "metadata": {
  "kernelspec": {
   "display_name": "Python 3 (ipykernel)",
   "language": "python",
   "name": "python3"
  },
  "language_info": {
   "codemirror_mode": {
    "name": "ipython",
    "version": 3
   },
   "file_extension": ".py",
   "mimetype": "text/x-python",
   "name": "python",
   "nbconvert_exporter": "python",
   "pygments_lexer": "ipython3",
   "version": "3.9.12"
  }
 },
 "nbformat": 4,
 "nbformat_minor": 5
}
