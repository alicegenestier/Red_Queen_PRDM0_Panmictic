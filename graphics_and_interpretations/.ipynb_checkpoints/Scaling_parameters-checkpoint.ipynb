{
 "cells": [
  {
   "cell_type": "code",
   "execution_count": 13,
   "id": "57d449ad",
   "metadata": {},
   "outputs": [],
   "source": [
    "import sys\n",
    "import os\n",
    "import os.path\n",
    "import io\n",
    "import csv\n",
    "import math\n",
    "\n",
    "import numpy as np\n",
    "import pandas as pd\n",
    "import matplotlib.pyplot as plt\n",
    "from scipy import stats\n",
    "from sklearn.linear_model import LinearRegression\n",
    "from sklearn.metrics import r2_score\n",
    "from scipy.stats import gamma\n",
    "from scipy import integrate\n",
    "import seaborn as sns\n",
    "import numpy.random as nprand\n",
    "\n",
    "# plt.rcParams.update({'font.size': 16})\n",
    "from scipy.stats import gamma"
   ]
  },
  {
   "cell_type": "code",
   "execution_count": 14,
   "id": "ab0a9ba4",
   "metadata": {},
   "outputs": [],
   "source": [
    "init_path = \"./../\""
   ]
  },
  {
   "cell_type": "code",
   "execution_count": 15,
   "id": "de8d7dd6",
   "metadata": {},
   "outputs": [],
   "source": [
    "def readparamsfile(pathtofile, file_name, ext_name):\n",
    "    data_file = pathtofile+file_name+\".\"+ext_name\n",
    "    data = dict()\n",
    "    params = []\n",
    "    with io.open(data_file,'r') as f:\n",
    "        reader = csv.reader(f)\n",
    "        for line in reader:\n",
    "            lin = line[0].split()\n",
    "            data[lin[0]]=[]\n",
    "            data[lin[0]].append(float(lin[1]))\n",
    "    return (data)"
   ]
  },
  {
   "cell_type": "code",
   "execution_count": 16,
   "id": "aedf5cb7",
   "metadata": {},
   "outputs": [],
   "source": [
    "def readscalingparams(target_folder_path , parameter , ext_name, param):\n",
    "    list_files = sorted(os.listdir(target_folder_path))\n",
    "    stat_dict = dict()\n",
    "    stat_dict['files']=[]\n",
    "    stat_dict[ext_name]=[]\n",
    "    #print(list_files)\n",
    "    for file_name in list_files:\n",
    "        #print(file_name)\n",
    "        if file_name.split(\".\")[1]==ext_name and (file_name.split(\".\")[0]).split(\"_\")[1]==param:\n",
    "            stat_dict['files'].append(float((file_name.split(\".\")[0]).split(\"_\")[2]))\n",
    "            stat_dict[ext_name].append(readparamsfile(target_folder_path, str(file_name.split(\".\")[0]), ext_name)[parameter][0])\n",
    "    return(stat_dict)"
   ]
  },
  {
   "cell_type": "code",
   "execution_count": 18,
   "id": "e22b1db7",
   "metadata": {},
   "outputs": [
    {
     "data": {
      "text/plain": [
       "Text(0, 0.5, 'Sigma 0')"
      ]
     },
     "execution_count": 18,
     "metadata": {},
     "output_type": "execute_result"
    },
    {
     "data": {
      "image/png": "[encoded data removed]",
      "text/plain": [
       "<Figure size 640x480 with 1 Axes>"
      ]
     },
     "metadata": {
      "needs_background": "light"
     },
     "output_type": "display_data"
    }
   ],
   "source": [
    "scaling_U_param = readscalingparams(init_path+'analyses/other/param/' , 'Sigma_0', 'params', 'V')\n",
    "\n",
    "figure = plt.figure()\n",
    "figure.patch.set_facecolor('white')\n",
    "figure.patch.set_alpha(0)\n",
    "plt.plot(scaling_U_param['files'],scaling_U_param['params'],'.')\n",
    "plt.xscale('log')\n",
    "plt.xlabel(\"V\")\n",
    "plt.ylabel(\"Sigma 0\")"
   ]
  },
  {
   "cell_type": "code",
   "execution_count": null,
   "id": "c6ee3132",
   "metadata": {},
   "outputs": [],
   "source": []
  }
 ],
 "metadata": {
  "kernelspec": {
   "display_name": "Python 3 (ipykernel)",
   "language": "python",
   "name": "python3"
  },
  "language_info": {
   "codemirror_mode": {
    "name": "ipython",
    "version": 3
   },
   "file_extension": ".py",
   "mimetype": "text/x-python",
   "name": "python",
   "nbconvert_exporter": "python",
   "pygments_lexer": "ipython3",
   "version": "3.9.12"
  }
 },
 "nbformat": 4,
 "nbformat_minor": 5
}
