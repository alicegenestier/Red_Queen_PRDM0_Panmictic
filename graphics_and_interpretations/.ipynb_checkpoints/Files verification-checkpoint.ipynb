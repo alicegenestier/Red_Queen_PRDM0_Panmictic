{
 "cells": [
  {
   "cell_type": "markdown",
   "id": "866a668c",
   "metadata": {},
   "source": [
    "# Files verification"
   ]
  },
  {
   "cell_type": "markdown",
   "id": "5619f10e",
   "metadata": {},
   "source": [
    "## Imports"
   ]
  },
  {
   "cell_type": "code",
   "execution_count": 1,
   "id": "35259b9b",
   "metadata": {},
   "outputs": [],
   "source": [
    "import sys\n",
    "import os\n",
    "import os.path\n",
    "import io\n",
    "import csv\n",
    "import math\n",
    "import numpy as np\n",
    "import pandas as pd\n",
    "import matplotlib.pyplot as plt\n",
    "from scipy import stats\n",
    "from sklearn.linear_model import LinearRegression\n",
    "from sklearn.metrics import r2_score\n",
    "from scipy.stats import gamma\n",
    "from scipy import integrate\n",
    "import seaborn as sns\n",
    "import numpy.random as nprand\n",
    "from scipy.stats import gamma"
   ]
  },
  {
   "cell_type": "markdown",
   "id": "70362ce7",
   "metadata": {},
   "source": [
    "### Initial path for all the files used here"
   ]
  },
  {
   "cell_type": "code",
   "execution_count": 2,
   "id": "accf3f7f",
   "metadata": {},
   "outputs": [],
   "source": [
    "init_path=\"../\""
   ]
  },
  {
   "cell_type": "markdown",
   "id": "afb5c73a",
   "metadata": {},
   "source": [
    "### Verification of error file : if there is an error, it is printed"
   ]
  },
  {
   "cell_type": "code",
   "execution_count": 3,
   "id": "2e7b1c8b",
   "metadata": {},
   "outputs": [],
   "source": [
    "def verif_error_file(target_folder_path,ext_name):\n",
    "    list_files = sorted(os.listdir(target_folder_path))\n",
    "    for file_name in list_files:\n",
    "        if file_name.split(\".\")[1]==ext_name:\n",
    "            print(file_name)\n",
    "            file_read = open(target_folder_path+'/'+file_name, \"r\")\n",
    "            lines = file_read.readlines()\n",
    "            print(lines)\n",
    "    return 0"
   ]
  },
  {
   "cell_type": "code",
   "execution_count": 7,
   "id": "098de866",
   "metadata": {},
   "outputs": [
    {
     "name": "stdout",
     "output_type": "stream",
     "text": [
      "Run_U_2e-3.err\n",
      "[\"terminate called after throwing an instance of 'std::bad_alloc'\\n\", '  what():  std::bad_alloc\\n', '/var/spool/slurmd/job4283382/slurm_script: line 10:  4235 Aborted                 ../../../../meiosis -u 0.002 -v 2e-3 -N 5000 -L 300000 -nbGenerations 50000 -nbcore 8 -zygosity 0 -everygen 100 -withDSB 0 Run_U_2e-3\\n']\n",
      "Run_U_2e-4.err\n",
      "[\"terminate called after throwing an instance of 'std::bad_alloc'\\n\", '  what():  std::bad_alloc\\n', '/var/spool/slurmd/job4283383/slurm_script: line 10:  4236 Aborted                 ../../../../meiosis -u 0.0002 -v 2e-3 -N 5000 -L 300000 -nbGenerations 50000 -nbcore 8 -zygosity 0 -everygen 100 -withDSB 0 Run_U_2e-4\\n']\n",
      "Run_U_2e-5.err\n",
      "[\"terminate called after throwing an instance of 'std::bad_alloc'\\n\", '  what():  std::bad_alloc\\n', '/var/spool/slurmd/job4283384/slurm_script: line 10:  4240 Aborted                 ../../../../meiosis -u 2e-05 -v 2e-3 -N 5000 -L 300000 -nbGenerations 50000 -nbcore 8 -zygosity 0 -everygen 100 -withDSB 0 Run_U_2e-5\\n']\n",
      "Run_U_2e-6.err\n",
      "[\"terminate called after throwing an instance of 'std::bad_alloc'\\n\", '  what():  std::bad_alloc\\n', '/var/spool/slurmd/job4283385/slurm_script: line 10:  4241 Aborted                 ../../../../meiosis -u 2e-06 -v 2e-3 -N 5000 -L 300000 -nbGenerations 50000 -nbcore 8 -zygosity 0 -everygen 100 -withDSB 0 Run_U_2e-6\\n']\n",
      "Run_U_5e-3.err\n",
      "[\"terminate called after throwing an instance of 'std::bad_alloc'\\n\", '  what():  std::bad_alloc\\n', '/var/spool/slurmd/job4283386/slurm_script: line 10:  4237 Aborted                 ../../../../meiosis -u 0.005 -v 2e-3 -N 5000 -L 300000 -nbGenerations 50000 -nbcore 8 -zygosity 0 -everygen 100 -withDSB 0 Run_U_5e-3\\n']\n",
      "Run_U_5e-4.err\n",
      "[]\n",
      "Run_U_5e-5.err\n",
      "[]\n",
      "Run_U_5e-6.err\n",
      "[]\n"
     ]
    },
    {
     "data": {
      "text/plain": [
       "0"
      ]
     },
     "execution_count": 7,
     "metadata": {},
     "output_type": "execute_result"
    }
   ],
   "source": [
    "verif_error_file(init_path+\"analyses/scaling_bidim_U_V_unif/scaling_bidim_1/scaling_V_2e-3\",\"err\")"
   ]
  },
  {
   "cell_type": "markdown",
   "id": "9ee4dfac",
   "metadata": {},
   "source": [
    "### Verification of time file : see at which generation it is (if nothing is printed, the run has reached the last generation)"
   ]
  },
  {
   "cell_type": "code",
   "execution_count": 30,
   "id": "27d35091",
   "metadata": {},
   "outputs": [],
   "source": [
    "def verif_time_file(target_folder_path,ext_name):\n",
    "    list_files = sorted(os.listdir(target_folder_path))\n",
    "    for file_name in list_files:\n",
    "        if file_name.split(\".\")[1]==ext_name:\n",
    "            print(file_name)\n",
    "            with io.open(target_folder_path+'/'+file_name, \"r\") as f:\n",
    "                reader = csv.reader(f)\n",
    "                firstline = True\n",
    "                for line in reader:\n",
    "                    lin = line[0].split()\n",
    "                    if not firstline:\n",
    "                        for j in range(len(lin)):\n",
    "                            pass\n",
    "                last_line = lin\n",
    "            if int(last_line[0])!=49900:\n",
    "                print(last_line[0])\n",
    "            #file_read = open(target_folder_path+'/'+file_name, \"r\")\n",
    "            #line = file_read.readlines()[-1]\n",
    "    return 0"
   ]
  },
  {
   "cell_type": "code",
   "execution_count": 47,
   "id": "7a1a1f00",
   "metadata": {},
   "outputs": [
    {
     "name": "stdout",
     "output_type": "stream",
     "text": [
      "Run_aff_2.time\n",
      "Run_aff_2e-1.time\n",
      "Run_aff_4e-1.time\n",
      "Run_aff_5.time\n",
      "Run_aff_6e-1.time\n",
      "Run_aff_8e-1.time\n"
     ]
    },
    {
     "data": {
      "text/plain": [
       "0"
      ]
     },
     "execution_count": 47,
     "metadata": {},
     "output_type": "execute_result"
    }
   ],
   "source": [
    "verif_time_file(init_path+\"analyses/scaling_empiric/scaling_empiric_nbmei_5/scaling_bidim_u_aff_1/scaling_empiric_U_6e-4\",\"time\")"
   ]
  }
 ],
 "metadata": {
  "kernelspec": {
   "display_name": "Python 3 (ipykernel)",
   "language": "python",
   "name": "python3"
  },
  "language_info": {
   "codemirror_mode": {
    "name": "ipython",
    "version": 3
   },
   "file_extension": ".py",
   "mimetype": "text/x-python",
   "name": "python",
   "nbconvert_exporter": "python",
   "pygments_lexer": "ipython3",
   "version": "3.9.12"
  }
 },
 "nbformat": 4,
 "nbformat_minor": 5
}
