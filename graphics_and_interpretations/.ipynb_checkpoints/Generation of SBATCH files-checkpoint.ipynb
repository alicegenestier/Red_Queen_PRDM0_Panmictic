{
 "cells": [
  {
   "cell_type": "markdown",
   "id": "39585603",
   "metadata": {},
   "source": [
    "# Generation of SBATCH files"
   ]
  },
  {
   "cell_type": "markdown",
   "id": "4c72e2f9",
   "metadata": {},
   "source": [
    "## Imports"
   ]
  },
  {
   "cell_type": "code",
   "execution_count": null,
   "id": "278e3f71",
   "metadata": {},
   "outputs": [],
   "source": [
    "import sys\n",
    "import os\n",
    "import os.path\n",
    "import io\n",
    "import csv\n",
    "import math\n",
    "import numpy as np\n",
    "import pandas as pd\n",
    "import matplotlib.pyplot as plt\n",
    "from scipy import stats\n",
    "from sklearn.linear_model import LinearRegression\n",
    "from sklearn.metrics import r2_score\n",
    "from scipy.stats import gamma\n",
    "from scipy import integrate\n",
    "import seaborn as sns\n",
    "import numpy.random as nprand\n",
    "from scipy.stats import gamma"
   ]
  },
  {
   "cell_type": "markdown",
   "id": "1b9ee726",
   "metadata": {},
   "source": [
    "## Functions"
   ]
  },
  {
   "cell_type": "code",
   "execution_count": 2,
   "id": "e0422b79",
   "metadata": {},
   "outputs": [],
   "source": [
    "def batchwriter(pathtofile=\"analyses/\",files_name=\"simul\", time=24, nodes=1, ntaskspernode=1, mem=2, partition=\"normal\", params_names=[], params_values=[],pathtoexe=\"../../meiosis\"):\n",
    "        if os.path.exists(pathtofile)==False:\n",
    "            os.makedirs(pathtofile)\n",
    "        batchfile= open(\"{0}Run_{1}.sh\".format(pathtofile,files_name),\"w+\")\n",
    "        batchfile.write(\"#!/bin/bash\\n\")\n",
    "        batchfile.write(\"#SBATCH --partition={0}\\n\".format(partition))\n",
    "        batchfile.write(\"#SBATCH --time={0}:00:00\\n\".format(time))\n",
    "        batchfile.write(\"#SBATCH --nodes={0}\\n\".format(nodes))\n",
    "        batchfile.write(\"#SBATCH --ntasks-per-node={0}\\n\".format(ntaskspernode))\n",
    "        batchfile.write(\"#SBATCH --mem={0}gb\\n\".format(mem))\n",
    "        batchfile.write(\"#SBATCH -o Run_{0}.out\\n\".format(files_name))\n",
    "        batchfile.write(\"#SBATCH -e Run_{0}.err\\n\".format(files_name))\n",
    "        batchfile.write(\"\\n\")\n",
    "        batchfile.write(pathtoexe)\n",
    "        for param in range(len(params_names)):\n",
    "            batchfile.write(\" -\"+params_names[param]+\" {0}\".format(params_values[param]))\n",
    "        batchfile.write(\" Run_{0}\".format(files_name))\n",
    "        batchfile.close()"
   ]
  },
  {
   "cell_type": "code",
   "execution_count": 3,
   "id": "6fcca8fb",
   "metadata": {},
   "outputs": [],
   "source": [
    "def scaling_U(params_list=[\"1e-2\",\"1e-3\",\"1e-4\",\"1e-5\",\"1e-6\",\"1e-7\",\"1e-8\"],N=1000,L=100000,nbGenerations=50000,time=24,path_to_folder=\"analyses/\",path_to_exe=\"../../meiosis\",v=1e-4,mem=2,nbcore=1,zygosity=0,everygen=10):\n",
    "    index_u=1\n",
    "    path=path_to_folder+\"scaling_U_{0}/\".format(index_u)\n",
    "    print(os.path.exists(path))\n",
    "    while os.path.exists(path):\n",
    "        index_u+=1\n",
    "        path=path_to_folder+\"scaling_U_{0}/\".format(index_u)\n",
    "        print(path)\n",
    "    for i in range (len(params_list)):\n",
    "        batchwriter(pathtofile=path,files_name=\"U_{0}\".format(params_list[i]), params_names=[\"u\",\"N\",\"L\",\"nbGenerations\",\"v\",\"nbcore\",\"zygosity\",\"everygen\"], params_values=[float(params_list[i]),N,L,nbGenerations,v,nbcore,zygosity,everygen],pathtoexe=path_to_exe,time=time,mem=mem)"
   ]
  },
  {
   "cell_type": "code",
   "execution_count": 4,
   "id": "4a38ea45",
   "metadata": {},
   "outputs": [],
   "source": [
    "def scaling_V(params_list=[\"1e-2\",\"1e-3\",\"1e-4\",\"1e-5\",\"1e-6\",\"1e-7\",\"1e-8\"],N=1000,nbGenerations=50000,time=24,path_to_folder=\"analyses/\",path_to_exe=\"../../meiosis\",u=1e-4,mem=2,nbcore=1,zygosity=0,everygen=10):\n",
    "    index_v=1\n",
    "    path=path_to_folder+\"scaling_V_{0}/\".format(index_v)\n",
    "    print(os.path.exists(path))\n",
    "    while os.path.exists(path):\n",
    "        index_v+=1\n",
    "        path=path_to_folder+\"scaling_V_{0}/\".format(index_v)\n",
    "        print(path)\n",
    "    for i in range (len(params_list)):\n",
    "        batchwriter(pathtofile=path,files_name=\"V_{0}\".format(params_list[i]), params_names=[\"v\",\"N\",\"nbGenerations\",\"u\",\"nbcore\",\"zygosity\",\"everygen\"], params_values=[float(params_list[i]),N,nbGenerations,u,nbcore,zygosity,everygen],pathtoexe=path_to_exe,time=time,mem=mem)"
   ]
  },
  {
   "cell_type": "code",
   "execution_count": 5,
   "id": "2a7b12e5",
   "metadata": {},
   "outputs": [],
   "source": [
    "def scaling_D(params_list=[\"2\",\"3\",\"4\",\"5\",\"6\",\"7\",\"8\",\"9\",\"10\",\"11\",\"12\"],N=1000,nbGenerations=50000,time=24,path_to_folder=\"analyses/\",path_to_exe=\"../../meiosis\",u=5e-4,v=[6e-4,4e-4,3e-4,24e-5,2e-4,17e-5,15e-5,14e-5,12e-5,11e-5,1e-4],mem=2,nbcore=1):\n",
    "    index_d=1\n",
    "    path=path_to_folder+\"scaling_D_{0}/\".format(index_d)\n",
    "    print(os.path.exists(path))\n",
    "    while os.path.exists(path):\n",
    "        index_d+=1\n",
    "        path=path_to_folder+\"scaling_D_{0}/\".format(index_d)\n",
    "        print(path)\n",
    "    for i in range (len(params_list)):\n",
    "        batchwriter(pathtofile=path,files_name=\"D_{0}\".format(params_list[i]), params_names=[\"nbDSB\",\"u\",\"N\",\"nbGenerations\",\"v\",\"nbcore\"], params_values=[float(params_list[i]),u,N,nbGenerations,v[i],nbcore],pathtoexe=path_to_exe,time=time,mem=mem)"
   ]
  },
  {
   "cell_type": "code",
   "execution_count": 6,
   "id": "7849e209",
   "metadata": {},
   "outputs": [],
   "source": [
    "def scaling_coeff(params_list=[\"0.1\",\"0.2\",\"0.3\",\"0.4\",\"0.5\",\"0.6\",\"0.7\",\"0.8\",\"0.9\",\"1\"],N=1000,nbGenerations=50000,time=24,path_to_folder=\"analyses/\",path_to_exe=\"../../meiosis\",u=2e-3,v=5e-4,mem=2,nbcore=1):\n",
    "    index_coeff=1\n",
    "    path=path_to_folder+\"scaling_coeff_{0}/\".format(index_coeff)\n",
    "    print(os.path.exists(path))\n",
    "    while os.path.exists(path):\n",
    "        index_coeff+=1\n",
    "        path=path_to_folder+\"scaling_coeff_{0}/\".format(index_coeff)\n",
    "        print(path)\n",
    "    for i in range (len(params_list)):\n",
    "        batchwriter(pathtofile=path,files_name=\"coeff_{0}\".format(params_list[i]), params_names=[\"meanaff\",\"u\",\"N\",\"nbGenerations\",\"v\",\"nbcore\"], params_values=[float(params_list[i]),u,N,nbGenerations,v,nbcore],pathtoexe=path_to_exe,time=time,mem=mem)"
   ]
  },
  {
   "cell_type": "code",
   "execution_count": 7,
   "id": "4806f8a4",
   "metadata": {},
   "outputs": [],
   "source": [
    "def scaling_N(params_list=[\"1e3\",\"1e4\",\"1e5\",\"1e6\"]):\n",
    "    index_N=1\n",
    "    path=\"analyses/scaling_N_{0}/\".format(index_N)\n",
    "    print(os.path.exists(path))\n",
    "    while os.path.exists(path):\n",
    "        index_N+=1\n",
    "        path=\"analyses/scaling_N_{0}/\".format(index_N)\n",
    "        print(path)\n",
    "    for i in range (len(params_list)):\n",
    "        batchwriter(pathtofile=path,files_name=\"N_{0}\".format(params_list[i]), params_names=[\"N\"], params_values=[float(params_list[i])],pathtoexe=\"../../meiosis\")"
   ]
  },
  {
   "cell_type": "code",
   "execution_count": 8,
   "id": "0f611c17",
   "metadata": {},
   "outputs": [],
   "source": [
    "def scaling_M(params_list=[\"1e-1\",\"1e-2\",\"1e-3\",\"1e-4\",\"1e-5\",\"1e-6\",\"1e-7\",\"1e-8\"], nbgenmig=4000,N=1000,u=1e-4,v=1e-4,time=24,path_to_folder=\"analyses/\",path_to_exe=\"../../meiosis\",nbGenerations=10000):\n",
    "    index_m=1\n",
    "    path=path_to_folder+\"scaling_M_{0}/\".format(index_m)\n",
    "    print(os.path.exists(path))\n",
    "    while os.path.exists(path):\n",
    "        index_m+=1\n",
    "        path=path_to_folder+\"scaling_M_{0}/\".format(index_m)\n",
    "        print(path)\n",
    "    for i in range (len(params_list)):\n",
    "        batchwriter(pathtofile=path,files_name=\"M_{0}\".format(params_list[i]), params_names=[\"m\",\"nbgenmig\",\"N\",\"u\",\"v\",\"nbGenerations\"], params_values=[float(params_list[i]),nbgenmig,N,u,v,nbGenerations],pathtoexe=path_to_exe,time=time)"
   ]
  },
  {
   "cell_type": "code",
   "execution_count": 3,
   "id": "0d75db4d",
   "metadata": {},
   "outputs": [],
   "source": [
    "def scaling_bidim(param_U=[\"5e-3\",\"2e-3\",\"5e-4\",\"2e-4\",\"5e-5\",\"2e-5\",\"5e-6\",\"2e-6\"],param_V=[\"5e-3\",\"2e-3\",\"5e-4\",\"2e-4\",\"5e-5\",\"2e-5\",\"5e-6\",\"2e-6\"],N=1000,L=300000,nbGenerations=50000,everygen=100,zygosity=0,withDSB=0,affinityUniform=0,path_to_folder=\"analyses/scaling_bidim_1/\",path_to_exe=\"../../../meiosis\",time=168,mem=10,nbcore=8):\n",
    "    for index_v in range(len(param_V)):\n",
    "        path=path_to_folder+\"scaling_V_{0}/\".format(param_V[index_v])\n",
    "        print(os.path.exists(path))\n",
    "        for i in range (len(param_U)):\n",
    "            batchwriter(pathtofile=path,files_name=\"U_{0}\".format(param_U[i]), params_names=[\"u\",\"v\",\"N\",\"L\",\"nbGenerations\",\"nbcore\",\"zygosity\",\"everygen\",\"withDSB\",\"affinityUniform\"], params_values=[float(param_U[i]),param_V[index_v],N,L,nbGenerations,nbcore,zygosity,everygen,withDSB,affinityUniform],pathtoexe=path_to_exe,time=time,mem=mem)"
   ]
  },
  {
   "cell_type": "code",
   "execution_count": 11,
   "id": "bf3370e2",
   "metadata": {},
   "outputs": [
    {
     "name": "stdout",
     "output_type": "stream",
     "text": [
      "True\n",
      "True\n",
      "True\n",
      "True\n",
      "True\n",
      "True\n",
      "True\n",
      "True\n"
     ]
    }
   ],
   "source": [
    "scaling_bidim(param_U=[\"5e-3\",\"2e-3\",\"5e-4\",\"2e-4\",\"5e-5\",\"2e-5\",\"5e-6\",\"2e-6\"],param_V=[\"5e-3\",\"2e-3\",\"5e-4\",\"2e-4\",\"5e-5\",\"2e-5\",\"5e-6\",\"2e-6\"],N=5000,L=300000,nbGenerations=50000,everygen=100,zygosity=0,withDSB=0,affinityUniform=1,path_to_folder=\"../analyses/scaling_bidim_U_V_unif/scaling_bidim_1/\",path_to_exe=\"../../../../meiosis\",time=168,mem=15,nbcore=8)"
   ]
  },
  {
   "cell_type": "code",
   "execution_count": 10,
   "id": "ab57a01d",
   "metadata": {},
   "outputs": [],
   "source": [
    "def scaling_bidim_d_aff(param_d=[\"2\",\"3\",\"4\",\"5\",\"6\",\"7\",\"8\",\"9\",\"10\",\"11\",\"12\"],param_meanaff=[\"0.1\",\"0.2\",\"0.3\",\"0.4\",\"0.5\",\"0.6\",\"0.7\",\"0.8\",\"0.9\",\"1\"],u=2e-4,v=2e-4,N=1000,L=300000,nbGenerations=50000,everygen=100,zygosity=0,path_to_folder=\"analyses/scaling_bidim_d_aff/\",path_to_exe=\"../../../meiosis\",time=168,mem=10,nbcore=8):\n",
    "    for index_d in range(len(param_d)):\n",
    "        path=path_to_folder+\"scaling_D_{0}/\".format(param_d[index_d])\n",
    "        print(os.path.exists(path))\n",
    "        for i in range (len(param_meanaff)):\n",
    "            batchwriter(pathtofile=path,files_name=\"aff_{0}\".format(param_meanaff[i]), params_names=[\"meanaff\",\"nbDSB\",\"u\",\"v\",\"N\",\"L\",\"nbGenerations\",\"nbcore\",\"zygosity\",\"everygen\"], params_values=[float(param_meanaff[i]),param_d[index_d],u,v,N,L,nbGenerations,nbcore,zygosity,everygen],pathtoexe=path_to_exe,time=time,mem=mem)"
   ]
  },
  {
   "cell_type": "code",
   "execution_count": 11,
   "id": "7dddc94a",
   "metadata": {},
   "outputs": [],
   "source": [
    "def scaling_bidim_ctot_aff(param_ctot=[\"20\",\"50\",\"80\",\"200\",\"500\",\"800\",\"2000\",\"5000\",\"8000\"],param_meanaff=[\"2e-3\",\"5e-3\",\"8e-3\",\"2e-2\",\"5e-2\",\"8e-2\",\"0.2\",\"0.5\",\"0.8\",\"2\",\"5\",\"8\",\"2e1\",\"5e1\",\"8e1\"],u=2e-4,v=2e-4,N=1000,L=100000,nbGenerations=50000,everygen=100,zygosity=0,targetcomp=0,nbmeiperind=1,quantilenb=0,path_to_folder=\"analyses/scaling_bidim_ctot_aff/\",path_to_exe=\"../../../meiosis\",time=168,mem=10,nbcore=8):\n",
    "    for index_ctot in range(len(param_ctot)):\n",
    "        path=path_to_folder+\"scaling_ctot_{0}/\".format(param_ctot[index_ctot])\n",
    "        print(os.path.exists(path))\n",
    "        for i in range (len(param_meanaff)):\n",
    "            batchwriter(pathtofile=path,files_name=\"aff_{0}\".format(param_meanaff[i]), params_names=[\"meanaff\",\"ctot\",\"u\",\"v\",\"N\",\"L\",\"nbGenerations\",\"nbcore\",\"zygosity\",\"everygen\",\"targetcomp\",\"nbmeiperind\",\"quantilenb\"], params_values=[float(param_meanaff[i]),param_ctot[index_ctot],u,v,N,L,nbGenerations,nbcore,zygosity,everygen,targetcomp,nbmeiperind,quantilenb],pathtoexe=path_to_exe,time=time,mem=mem)"
   ]
  },
  {
   "cell_type": "code",
   "execution_count": 12,
   "id": "5ace2bbf",
   "metadata": {},
   "outputs": [],
   "source": [
    "def scaling_empiric_U(param_u=[\"6e-5\",\"7e-5\",\"8e-5\",\"9e-5\",\"1e-4\",\"2e-4\",\"3e-4\",\"4e-4\",\"5e-4\",\"6e-4\"],v=2e-6,N=5000,L=200000,nbDSB=8,nbsite=800,meanaff=0.44,nbGenerations=50000,everygen=100,zygosity=1,targetcomp=0,nbmeiperind=1,quantilenb=0,path_to_folder=\"analyses/\",path_to_exe=\"../../meiosis\",time=168,mem=5,nbcore=8):\n",
    "    index_u=1\n",
    "    path=path_to_folder+\"scaling_empirique_U_{0}/\".format(index_u)\n",
    "    print(os.path.exists(path))\n",
    "    while os.path.exists(path):\n",
    "        index_u+=1\n",
    "        path=path_to_folder+\"scaling_empirique_U_{0}/\".format(index_u)\n",
    "        print(path)\n",
    "    print(os.path.exists(path))\n",
    "    for i in range (len(param_u)):\n",
    "        batchwriter(pathtofile=path,files_name=\"U_{0}\".format(param_u[i]), params_names=[\"u\",\"v\",\"N\",\"L\",\"nbDSB\",\"nbsite\",\"meanaff\",\"nbGenerations\",\"nbcore\",\"zygosity\",\"everygen\",\"targetcomp\",\"nbmeiperind\",\"quantilenb\"], params_values=[float(param_u[i]),v,N,L,nbDSB,nbsite,meanaff,nbGenerations,nbcore,zygosity,everygen,targetcomp,nbmeiperind,quantilenb],pathtoexe=path_to_exe,time=time,mem=mem)"
   ]
  },
  {
   "cell_type": "code",
   "execution_count": 13,
   "id": "97e638e4",
   "metadata": {},
   "outputs": [],
   "source": [
    "def scaling_empiric_nbmeiperind(param_nbmeiperind=[\"1\",\"2\",\"3\",\"4\",\"5\",\"6\",\"7\",\"8\",\"9\",\"10\"],u=6e-5,v=2e-6,N=5000,L=200000,nbDSB=8,nbsite=800,meanaff=0.44,nbGenerations=50000,everygen=100,zygosity=1,targetcomp=0,quantilenb=0,path_to_folder=\"analyses/\",path_to_exe=\"../../meiosis\",time=168,mem=5,nbcore=8):\n",
    "    index_nbmeiperind=1\n",
    "    path=path_to_folder+\"scaling_empirique_nbmeiperind_{0}/\".format(index_nbmeiperind)\n",
    "    print(os.path.exists(path))\n",
    "    while os.path.exists(path):\n",
    "        index_nbmeiperind+=1\n",
    "        path=path_to_folder+\"scaling_empirique_nbmeiperind_{0}/\".format(index_nbmeiperind)\n",
    "        print(path)\n",
    "    print(os.path.exists(path))\n",
    "    for i in range (len(param_nbmeiperind)):\n",
    "        batchwriter(pathtofile=path,files_name=\"nbmeiperind_{0}\".format(param_nbmeiperind[i]), params_names=[\"nbmeiperind\",\"u\",\"v\",\"N\",\"L\",\"nbDSB\",\"nbsite\",\"meanaff\",\"nbGenerations\",\"nbcore\",\"zygosity\",\"everygen\",\"targetcomp\",\"quantilenb\"], params_values=[float(param_nbmeiperind[i]),u,v,N,L,nbDSB,nbsite,meanaff,nbGenerations,nbcore,zygosity,everygen,targetcomp,quantilenb],pathtoexe=path_to_exe,time=time,mem=mem)"
   ]
  },
  {
   "cell_type": "code",
   "execution_count": 14,
   "id": "51446744",
   "metadata": {},
   "outputs": [],
   "source": [
    "def scaling_bidim_u_aff(param_U=[\"5e-3\",\"2e-3\",\"5e-4\",\"2e-4\",\"5e-5\",\"2e-5\",\"5e-6\",\"2e-6\"],param_meanaff=[\"2e-3\",\"5e-3\",\"8e-3\",\"2e-2\",\"5e-2\",\"8e-2\",\"0.2\",\"0.5\",\"0.8\",\"2\",\"5\",\"8\",\"2e1\",\"5e1\",\"8e1\"],v=2e-4,N=1000,L=100000,nbGenerations=50000,everygen=100,zygosity=0,targetcomp=0,nbmeiperind=1,quantilenb=0,affinityUniform=0,path_to_folder=\"analyses/scaling_bidim_u_aff/\",path_to_exe=\"../../../../meiosis\",time=168,mem=10,nbcore=8):\n",
    "    for index_U in range(len(param_U)):\n",
    "        path=path_to_folder+\"scaling_U_{0}/\".format(param_U[index_U])\n",
    "        print(os.path.exists(path))\n",
    "        for i in range (len(param_meanaff)):\n",
    "            batchwriter(pathtofile=path,files_name=\"aff_{0}\".format(param_meanaff[i]), params_names=[\"meanaff\",\"u\",\"v\",\"N\",\"L\",\"nbGenerations\",\"nbcore\",\"zygosity\",\"everygen\",\"targetcomp\",\"nbmeiperind\",\"quantilenb\",\"affinityUniform\"], params_values=[float(param_meanaff[i]),param_U[index_U],v,N,L,nbGenerations,nbcore,zygosity,everygen,targetcomp,nbmeiperind,quantilenb,affinityUniform],pathtoexe=path_to_exe,time=time,mem=mem)"
   ]
  },
  {
   "cell_type": "code",
   "execution_count": 15,
   "id": "6834d944",
   "metadata": {},
   "outputs": [],
   "source": [
    "def scaling_bidim_empirique_u_aff(param_U=[\"2e-5\",\"6e-5\",\"2e-4\",\"6e-4\"],param_meanaff=[\"5e-3\",\"8e-3\",\"2e-2\",\"5e-2\",\"8e-2\",\"2e-1\",\"4e-1\",\"6e-1\",\"8e-1\",\"2\",\"5\"],v=2e-4,N=5000,L=100000,nbDSB=8,nbsite=800,nbGenerations=50000,everygen=100,zygosity=1,targetcomp=0,nbmeiperind=1,quantilenb=0,affinityUniform=0,path_to_folder=\"analyses/scaling_empiric/scaling_bidim_u_aff/\",path_to_exe=\"../../../../meiosis\",time=168,mem=10,nbcore=8):\n",
    "    for index_U in range(len(param_U)):\n",
    "        path=path_to_folder+\"scaling_empiric_U_{0}/\".format(param_U[index_U])\n",
    "        print(os.path.exists(path))\n",
    "        for i in range (len(param_meanaff)):\n",
    "            batchwriter(pathtofile=path,files_name=\"aff_{0}\".format(param_meanaff[i]), params_names=[\"meanaff\",\"u\",\"v\",\"N\",\"L\",\"nbDSB\",\"nbsite\",\"nbGenerations\",\"nbcore\",\"zygosity\",\"everygen\",\"targetcomp\",\"nbmeiperind\",\"quantilenb\",\"affinityUniform\"], params_values=[float(param_meanaff[i]),param_U[index_U],v,N,L,nbDSB,nbsite,nbGenerations,nbcore,zygosity,everygen,targetcomp,nbmeiperind,quantilenb,affinityUniform],pathtoexe=path_to_exe,time=time,mem=mem)"
   ]
  },
  {
   "cell_type": "markdown",
   "id": "fe6ee2e2",
   "metadata": {},
   "source": [
    "Definiftion of parameters :"
   ]
  },
  {
   "cell_type": "code",
   "execution_count": 37,
   "id": "86619320",
   "metadata": {},
   "outputs": [],
   "source": [
    "param_U=[\"2e-5\",\"6e-5\",\"2e-4\",\"6e-4\"]\n",
    "param_meanaff=[\"2e-1\",\"4e-1\",\"6e-1\",\"8e-1\",\"2\",\"5\"]\n",
    "v=2e-6\n",
    "N=5000\n",
    "L=100000\n",
    "nbDSB=8\n",
    "nbsite=800\n",
    "nbGenerations=50000\n",
    "everygen=100\n",
    "zygosity=1\n",
    "targetcomp=0\n",
    "nbmeiperind=5\n",
    "quantilenb=0\n",
    "affinityUniform=0\n",
    "path_to_folder=\"analyses/scaling_empiric/scaling_empiric_nbmei_5/scaling_bidim_u_aff_2/\"\n",
    "path_to_exe=\"../../../../../meiosis\"\n",
    "time=168\n",
    "mem=10\n",
    "nbcore=8"
   ]
  },
  {
   "cell_type": "markdown",
   "id": "64ea7423",
   "metadata": {},
   "source": [
    "Folder creation"
   ]
  },
  {
   "cell_type": "code",
   "execution_count": 38,
   "id": "24b59ecb",
   "metadata": {},
   "outputs": [
    {
     "name": "stdout",
     "output_type": "stream",
     "text": [
      "True\n",
      "True\n",
      "True\n",
      "True\n"
     ]
    }
   ],
   "source": [
    "scaling_bidim_empirique_u_aff(param_U=param_U,param_meanaff=param_meanaff,v=v,N=N,L=L,nbDSB=nbDSB,nbsite=nbsite,nbGenerations=nbGenerations,everygen=everygen,zygosity=zygosity,targetcomp=targetcomp,nbmeiperind=nbmeiperind,quantilenb=quantilenb,affinityUniform=affinityUniform,path_to_folder=path_to_folder,path_to_exe=path_to_exe,time=time,mem=mem,nbcore=nbcore)"
   ]
  },
  {
   "cell_type": "code",
   "execution_count": null,
   "id": "3475b9ee",
   "metadata": {},
   "outputs": [],
   "source": []
  }
 ],
 "metadata": {
  "kernelspec": {
   "display_name": "Python 3 (ipykernel)",
   "language": "python",
   "name": "python3"
  },
  "language_info": {
   "codemirror_mode": {
    "name": "ipython",
    "version": 3
   },
   "file_extension": ".py",
   "mimetype": "text/x-python",
   "name": "python",
   "nbconvert_exporter": "python",
   "pygments_lexer": "ipython3",
   "version": "3.9.12"
  }
 },
 "nbformat": 4,
 "nbformat_minor": 5
}
